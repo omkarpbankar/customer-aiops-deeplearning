{
 "cells": [
  {
   "cell_type": "code",
   "execution_count": 1,
   "metadata": {},
   "outputs": [],
   "source": [
    "import os"
   ]
  },
  {
   "cell_type": "code",
   "execution_count": 3,
   "metadata": {},
   "outputs": [],
   "source": [
    "workdir=os.getcwd()"
   ]
  },
  {
   "cell_type": "code",
   "execution_count": 12,
   "metadata": {},
   "outputs": [],
   "source": [
    "class Config:\n",
    "\n",
    "    def __init__(self):\n",
    "        self.work_dir = workdir\n",
    "        self.data_dir = os.path.join(workdir,'data')\n",
    "        self.csv_file_name = \"customer.csv\"\n",
    "        self.csv_file_path = os.path.join(self.data_dir,self.csv_file_name)\n",
    "        self.pipeline_name = \"aiops_pipeline\"\n",
    "        self.pipeline_root = os.path.join(\"aiops_pipeline_artifact\")\n",
    "        self.meta_data_path = os.path.join(\"aiops_pipeline_metadata\", self.pipeline_name,\"metadeta.db\")"
   ]
  },
  {
   "cell_type": "code",
   "execution_count": 13,
   "metadata": {},
   "outputs": [],
   "source": [
    "config = Config()"
   ]
  },
  {
   "cell_type": "code",
   "execution_count": 14,
   "metadata": {},
   "outputs": [],
   "source": [
    "from tfx.orchestration.experimental.interactive.interactive_context import InteractiveContext"
   ]
  },
  {
   "cell_type": "code",
   "execution_count": 15,
   "metadata": {},
   "outputs": [],
   "source": [
    "from tfx.v1.orchestration.metadata import mysql_metadata_connection_config"
   ]
  },
  {
   "cell_type": "code",
   "execution_count": 16,
   "metadata": {},
   "outputs": [],
   "source": [
    "interactive_context = InteractiveContext(\n",
    "    pipeline_name=config.pipeline_name,\n",
    "    pipeline_root=config.pipeline_root,\n",
    "    metadata_connection_config=mysql_metadata_connection_config(\n",
    "        host=\"localhost\",\n",
    "        port=3306,\n",
    "        database=\"tfx\",\n",
    "        username= \"root\",\n",
    "        password= \"mysql\"\n",
    "    )\n",
    ")"
   ]
  },
  {
   "cell_type": "code",
   "execution_count": 17,
   "metadata": {},
   "outputs": [],
   "source": [
    "from tfx.components import CsvExampleGen"
   ]
  },
  {
   "cell_type": "code",
   "execution_count": 18,
   "metadata": {},
   "outputs": [],
   "source": [
    "csv_example_gen=CsvExampleGen(input_base=config.data_dir)"
   ]
  },
  {
   "cell_type": "code",
   "execution_count": 19,
   "metadata": {},
   "outputs": [
    {
     "ename": "RuntimeError",
     "evalue": "Failed to establish connection to Metadata storage with error: MySQL is not supported in Windows yet",
     "output_type": "error",
     "traceback": [
      "\u001b[1;31m---------------------------------------------------------------------------\u001b[0m",
      "\u001b[1;31mRuntimeError\u001b[0m                              Traceback (most recent call last)",
      "\u001b[1;32m~\\AppData\\Local\\Temp\\ipykernel_15808\\1586064012.py\u001b[0m in \u001b[0;36m<module>\u001b[1;34m\u001b[0m\n\u001b[1;32m----> 1\u001b[1;33m \u001b[0minteractive_context\u001b[0m\u001b[1;33m.\u001b[0m\u001b[0mrun\u001b[0m\u001b[1;33m(\u001b[0m\u001b[0mcsv_example_gen\u001b[0m\u001b[1;33m)\u001b[0m\u001b[1;33m\u001b[0m\u001b[0m\n\u001b[0m",
      "\u001b[1;32mD:\\iNeuron\\Project\\AIOps_Live\\customer-aiops-deeplearning\\env\\lib\\site-packages\\tfx\\orchestration\\experimental\\interactive\\interactive_context.py\u001b[0m in \u001b[0;36mrun_if_ipython\u001b[1;34m(*args, **kwargs)\u001b[0m\n\u001b[0;32m     61\u001b[0m       \u001b[1;31m# __IPYTHON__ variable is set by IPython, see\u001b[0m\u001b[1;33m\u001b[0m\u001b[1;33m\u001b[0m\u001b[0m\n\u001b[0;32m     62\u001b[0m       \u001b[1;31m# https://ipython.org/ipython-doc/rel-0.10.2/html/interactive/reference.html#embedding-ipython.\u001b[0m\u001b[1;33m\u001b[0m\u001b[1;33m\u001b[0m\u001b[0m\n\u001b[1;32m---> 63\u001b[1;33m       \u001b[1;32mreturn\u001b[0m \u001b[0mfn\u001b[0m\u001b[1;33m(\u001b[0m\u001b[1;33m*\u001b[0m\u001b[0margs\u001b[0m\u001b[1;33m,\u001b[0m \u001b[1;33m**\u001b[0m\u001b[0mkwargs\u001b[0m\u001b[1;33m)\u001b[0m\u001b[1;33m\u001b[0m\u001b[0m\n\u001b[0m\u001b[0;32m     64\u001b[0m     \u001b[1;32melse\u001b[0m\u001b[1;33m:\u001b[0m\u001b[1;33m\u001b[0m\u001b[0m\n\u001b[0;32m     65\u001b[0m       absl.logging.warning(\n",
      "\u001b[1;32mD:\\iNeuron\\Project\\AIOps_Live\\customer-aiops-deeplearning\\env\\lib\\site-packages\\tfx\\orchestration\\experimental\\interactive\\interactive_context.py\u001b[0m in \u001b[0;36mrun\u001b[1;34m(self, component, enable_cache, beam_pipeline_args)\u001b[0m\n\u001b[0;32m    181\u001b[0m         \u001b[0mtelemetry_utils\u001b[0m\u001b[1;33m.\u001b[0m\u001b[0mLABEL_TFX_RUNNER\u001b[0m\u001b[1;33m:\u001b[0m \u001b[0mrunner_label\u001b[0m\u001b[1;33m,\u001b[0m\u001b[1;33m\u001b[0m\u001b[0m\n\u001b[0;32m    182\u001b[0m     }):\n\u001b[1;32m--> 183\u001b[1;33m       \u001b[0mexecution_id\u001b[0m \u001b[1;33m=\u001b[0m \u001b[0mlauncher\u001b[0m\u001b[1;33m.\u001b[0m\u001b[0mlaunch\u001b[0m\u001b[1;33m(\u001b[0m\u001b[1;33m)\u001b[0m\u001b[1;33m.\u001b[0m\u001b[0mexecution_id\u001b[0m\u001b[1;33m\u001b[0m\u001b[0m\n\u001b[0m\u001b[0;32m    184\u001b[0m \u001b[1;33m\u001b[0m\u001b[0m\n\u001b[0;32m    185\u001b[0m     return execution_result.ExecutionResult(\n",
      "\u001b[1;32mD:\\iNeuron\\Project\\AIOps_Live\\customer-aiops-deeplearning\\env\\lib\\site-packages\\tfx\\orchestration\\launcher\\base_component_launcher.py\u001b[0m in \u001b[0;36mlaunch\u001b[1;34m(self)\u001b[0m\n\u001b[0;32m    190\u001b[0m                       self._component_info.component_id)\n\u001b[0;32m    191\u001b[0m     execution_decision = self._run_driver(self._input_dict, self._output_dict,\n\u001b[1;32m--> 192\u001b[1;33m                                           self._exec_properties)\n\u001b[0m\u001b[0;32m    193\u001b[0m \u001b[1;33m\u001b[0m\u001b[0m\n\u001b[0;32m    194\u001b[0m     \u001b[1;32mif\u001b[0m \u001b[1;32mnot\u001b[0m \u001b[0mexecution_decision\u001b[0m\u001b[1;33m.\u001b[0m\u001b[0muse_cached_results\u001b[0m\u001b[1;33m:\u001b[0m\u001b[1;33m\u001b[0m\u001b[0m\n",
      "\u001b[1;32mD:\\iNeuron\\Project\\AIOps_Live\\customer-aiops-deeplearning\\env\\lib\\site-packages\\tfx\\orchestration\\launcher\\base_component_launcher.py\u001b[0m in \u001b[0;36m_run_driver\u001b[1;34m(self, input_dict, output_dict, exec_properties)\u001b[0m\n\u001b[0;32m    150\u001b[0m     \u001b[1;34m\"\"\"Prepare inputs, outputs and execution properties for actual execution.\"\"\"\u001b[0m\u001b[1;33m\u001b[0m\u001b[0m\n\u001b[0;32m    151\u001b[0m \u001b[1;33m\u001b[0m\u001b[0m\n\u001b[1;32m--> 152\u001b[1;33m     \u001b[1;32mwith\u001b[0m \u001b[0mself\u001b[0m\u001b[1;33m.\u001b[0m\u001b[0m_metadata_connection\u001b[0m \u001b[1;32mas\u001b[0m \u001b[0mm\u001b[0m\u001b[1;33m:\u001b[0m\u001b[1;33m\u001b[0m\u001b[0m\n\u001b[0m\u001b[0;32m    153\u001b[0m       \u001b[0mdriver\u001b[0m \u001b[1;33m=\u001b[0m \u001b[0mself\u001b[0m\u001b[1;33m.\u001b[0m\u001b[0m_driver_class\u001b[0m\u001b[1;33m(\u001b[0m\u001b[0mmetadata_handler\u001b[0m\u001b[1;33m=\u001b[0m\u001b[0mm\u001b[0m\u001b[1;33m)\u001b[0m\u001b[1;33m\u001b[0m\u001b[0m\n\u001b[0;32m    154\u001b[0m \u001b[1;33m\u001b[0m\u001b[0m\n",
      "\u001b[1;32mD:\\iNeuron\\Project\\AIOps_Live\\customer-aiops-deeplearning\\env\\lib\\site-packages\\tfx\\orchestration\\metadata.py\u001b[0m in \u001b[0;36m__enter__\u001b[1;34m(self)\u001b[0m\n\u001b[0;32m    152\u001b[0m     raise RuntimeError(\n\u001b[0;32m    153\u001b[0m         \u001b[1;34m'Failed to establish connection to Metadata storage with error: %s'\u001b[0m \u001b[1;33m%\u001b[0m\u001b[1;33m\u001b[0m\u001b[0m\n\u001b[1;32m--> 154\u001b[1;33m         connection_error)\n\u001b[0m\u001b[0;32m    155\u001b[0m \u001b[1;33m\u001b[0m\u001b[0m\n\u001b[0;32m    156\u001b[0m   def __exit__(self, exc_type: Optional[Type[Exception]],\n",
      "\u001b[1;31mRuntimeError\u001b[0m: Failed to establish connection to Metadata storage with error: MySQL is not supported in Windows yet"
     ]
    }
   ],
   "source": [
    "interactive_context.run(csv_example_gen)"
   ]
  }
 ],
 "metadata": {
  "interpreter": {
   "hash": "df6953a1e7d616d5d075d37e1af0a7b184acbc9c0753d43ae9b279f241e07116"
  },
  "kernelspec": {
   "display_name": "Python 3.7.0 (conda)",
   "language": "python",
   "name": "python3"
  },
  "language_info": {
   "codemirror_mode": {
    "name": "ipython",
    "version": 3
   },
   "file_extension": ".py",
   "mimetype": "text/x-python",
   "name": "python",
   "nbconvert_exporter": "python",
   "pygments_lexer": "ipython3",
   "version": "3.7.0"
  },
  "orig_nbformat": 4
 },
 "nbformat": 4,
 "nbformat_minor": 2
}
